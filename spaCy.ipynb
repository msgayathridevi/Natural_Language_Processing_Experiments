{
  "nbformat": 4,
  "nbformat_minor": 0,
  "metadata": {
    "colab": {
      "provenance": []
    },
    "kernelspec": {
      "name": "python3",
      "display_name": "Python 3"
    },
    "language_info": {
      "name": "python"
    }
  },
  "cells": [
    {
      "cell_type": "markdown",
      "source": [
        "## **Span - text slice**"
      ],
      "metadata": {
        "id": "pWpjq3nGYzei"
      }
    },
    {
      "cell_type": "code",
      "execution_count": 1,
      "metadata": {
        "colab": {
          "base_uri": "https://localhost:8080/"
        },
        "id": "TVbI8pGgO8t6",
        "outputId": "b372cd2c-fc5c-4421-e6f6-c0ce73dc22c0"
      },
      "outputs": [
        {
          "output_type": "execute_result",
          "data": {
            "text/plain": [
              "are fragments of a"
            ]
          },
          "metadata": {},
          "execution_count": 1
        }
      ],
      "source": [
        "import spacy\n",
        "import en_core_web_sm\n",
        "nlp_example = en_core_web_sm.load()\n",
        "my_doc = nlp_example(\"Spans are fragments of a text belonging to a particular class.\")\n",
        "span = my_doc[1:5]\n",
        "span"
      ]
    },
    {
      "cell_type": "markdown",
      "source": [
        "## **Token**"
      ],
      "metadata": {
        "id": "Uy0X-htJY-w8"
      }
    },
    {
      "cell_type": "code",
      "source": [
        "import en_core_web_sm\n",
        "nlp_example = en_core_web_sm.load()\n",
        "my_doc = nlp_example(\"Spans are fragments of a text belonging to a particular class\")\n",
        "token = my_doc[4]\n",
        "token"
      ],
      "metadata": {
        "colab": {
          "base_uri": "https://localhost:8080/"
        },
        "id": "AM2-OmCFZBlw",
        "outputId": "1f4dc6b4-7170-4d5c-a284-d70b0b3574d3"
      },
      "execution_count": 2,
      "outputs": [
        {
          "output_type": "execute_result",
          "data": {
            "text/plain": [
              "a"
            ]
          },
          "metadata": {},
          "execution_count": 2
        }
      ]
    },
    {
      "cell_type": "markdown",
      "source": [
        "## **Tokenization**"
      ],
      "metadata": {
        "id": "CLWWRyvQZwB9"
      }
    },
    {
      "cell_type": "code",
      "source": [
        "nlp = en_core_web_sm.load()"
      ],
      "metadata": {
        "id": "gVY5q1e1a6zM"
      },
      "execution_count": 3,
      "outputs": []
    },
    {
      "cell_type": "code",
      "source": [
        "doc = nlp(\"Spans are fragments of a text belonging to a particular class\")\n",
        "print([token.text for token in doc])"
      ],
      "metadata": {
        "colab": {
          "base_uri": "https://localhost:8080/"
        },
        "id": "EQ7OrSdcZzB5",
        "outputId": "a9689f80-2d26-4670-87dd-013db04b9603"
      },
      "execution_count": 4,
      "outputs": [
        {
          "output_type": "stream",
          "name": "stdout",
          "text": [
            "['Spans', 'are', 'fragments', 'of', 'a', 'text', 'belonging', 'to', 'a', 'particular', 'class']\n"
          ]
        }
      ]
    },
    {
      "cell_type": "markdown",
      "source": [
        "## **Customizing the Tokenizer**"
      ],
      "metadata": {
        "id": "nT79KYhkbN8W"
      }
    },
    {
      "cell_type": "code",
      "source": [
        "from spacy.symbols import ORTH\n",
        "nlp = en_core_web_sm.load()\n",
        "doc = nlp(\"NewYork is a beautiful city.\")\n",
        "print([token.text for token in doc])\n",
        "special_case = [{ORTH:\"New\"}, {ORTH: \"York\"}]\n",
        "nlp.tokenizer.add_special_case(\"NewYork\", special_case)\n",
        "print([token.text for token in nlp(\"NewYork is a beautiful city.\")])"
      ],
      "metadata": {
        "colab": {
          "base_uri": "https://localhost:8080/"
        },
        "id": "2hb5Ak_QbMHu",
        "outputId": "82ace92a-6242-45b2-9914-086950c271fd"
      },
      "execution_count": 5,
      "outputs": [
        {
          "output_type": "stream",
          "name": "stdout",
          "text": [
            "['NewYork', 'is', 'a', 'beautiful', 'city', '.']\n",
            "['New', 'York', 'is', 'a', 'beautiful', 'city', '.']\n"
          ]
        }
      ]
    },
    {
      "cell_type": "markdown",
      "source": [
        "## **Sentence Segmentation**"
      ],
      "metadata": {
        "id": "05STC5XfggI9"
      }
    },
    {
      "cell_type": "code",
      "source": [
        "text = \"Spans are fragments of a text belonging to a particular class. To evaluate the prediction of spans we chop a text into atomic pieces and determine for each of them if they have been correctly classified. Out-of-the-box spaCy provides token-based metrics for span-prediction.\"\n",
        "doc = nlp(text)\n",
        "for sent in doc.sents:\n",
        "  print(sent.text)"
      ],
      "metadata": {
        "colab": {
          "base_uri": "https://localhost:8080/"
        },
        "id": "nHJeMEsxgkoY",
        "outputId": "b1a9b0d3-d8f2-4689-916a-009af8fb36e1"
      },
      "execution_count": 6,
      "outputs": [
        {
          "output_type": "stream",
          "name": "stdout",
          "text": [
            "Spans are fragments of a text belonging to a particular class.\n",
            "To evaluate the prediction of spans we chop a text into atomic pieces and determine for each of them if they have been correctly classified.\n",
            "Out-of-the-box spaCy provides token-based metrics for span-prediction.\n"
          ]
        }
      ]
    },
    {
      "cell_type": "markdown",
      "source": [
        "## **Remove Punctutation Marks**"
      ],
      "metadata": {
        "id": "T--mkg8Ni3xh"
      }
    },
    {
      "cell_type": "code",
      "source": [
        "text = \". To evaluate the prediction of spans we chop a text into atomic pieces and determine for each of them if they have been correctly classified. Out-of-the-box spaCy provides token-based metrics for span-prediction.\"\n",
        "nlp = en_core_web_sm.load()\n",
        "doc = nlp(text)\n",
        "text_no_punct = [token for token in doc if not token.is_punct]\n",
        "' '.join(t.text for t in text_no_punct)"
      ],
      "metadata": {
        "colab": {
          "base_uri": "https://localhost:8080/",
          "height": 53
        },
        "id": "CHAgQ9MHi3Ch",
        "outputId": "a074cf1a-0546-43cd-da75-b9b05cfdd258"
      },
      "execution_count": 7,
      "outputs": [
        {
          "output_type": "execute_result",
          "data": {
            "text/plain": [
              "'To evaluate the prediction of spans we chop a text into atomic pieces and determine for each of them if they have been correctly classified Out of the box spaCy provides token based metrics for span prediction'"
            ],
            "application/vnd.google.colaboratory.intrinsic+json": {
              "type": "string"
            }
          },
          "metadata": {},
          "execution_count": 7
        }
      ]
    },
    {
      "cell_type": "markdown",
      "source": [
        "## **Frequency Distribution in Spacy - POS**"
      ],
      "metadata": {
        "id": "hiUZd3Wnk71k"
      }
    },
    {
      "cell_type": "code",
      "source": [
        "import spacy.attrs\n",
        "nlp = spacy.load(\"en_core_web_sm\")\n",
        "doc = nlp(\"It all happened between November 2007 and November 2008\")\n",
        "\n",
        "# Returns integers that map to parts of speech\n",
        "counts_dict = doc.count_by(spacy.attrs.IDS['POS'])\n",
        "\n",
        "# Print the human readable part of speech tags\n",
        "for pos, count in counts_dict.items():\n",
        "    human_readable_tag = doc.vocab[pos].text\n",
        "    res = print(human_readable_tag, count)"
      ],
      "metadata": {
        "colab": {
          "base_uri": "https://localhost:8080/"
        },
        "id": "_xVBQ_UElAcR",
        "outputId": "20319ddc-ce22-4a54-e24a-ce189eb06ac5"
      },
      "execution_count": 8,
      "outputs": [
        {
          "output_type": "stream",
          "name": "stdout",
          "text": [
            "PRON 2\n",
            "VERB 1\n",
            "ADP 1\n",
            "PROPN 2\n",
            "NUM 2\n",
            "CCONJ 1\n"
          ]
        }
      ]
    },
    {
      "cell_type": "markdown",
      "source": [
        "## **STOP WORDS**"
      ],
      "metadata": {
        "id": "8Fzo0WPHpaYR"
      }
    },
    {
      "cell_type": "code",
      "source": [
        "nlp = spacy.load('en_core_web_sm')\n",
        "\n",
        "# Create a set of stop words\n",
        "stop_words = spacy.lang.en.stop_words.STOP_WORDS\n",
        "\n",
        "# Define a function to remove stop words from a sentence\n",
        "def remove_stop_words(sentence):\n",
        "  # Parse the sentence using spaCy\n",
        "  doc = nlp(sentence)\n",
        "\n",
        "  # Use a list comprehension to remove stop words\n",
        "  filtered_tokens = [token for token in doc if not token.is_stop]\n",
        "\n",
        "  # Join the filtered tokens back into a sentence\n",
        "  return ' '.join([token.text for token in filtered_tokens])"
      ],
      "metadata": {
        "id": "Q5XmJMJFpcwf"
      },
      "execution_count": 9,
      "outputs": []
    },
    {
      "cell_type": "code",
      "source": [
        "sentence = \"This is an example sentence with stop words.\"\n",
        "\n",
        "filtered_sentence = remove_stop_words(sentence)\n",
        "print(filtered_sentence)\n",
        "# Output: \"example sentence stop words.\""
      ],
      "metadata": {
        "colab": {
          "base_uri": "https://localhost:8080/"
        },
        "id": "MdzywkDPpkjl",
        "outputId": "07575706-0823-4f4c-db58-593969f46c77"
      },
      "execution_count": 10,
      "outputs": [
        {
          "output_type": "stream",
          "name": "stdout",
          "text": [
            "example sentence stop words .\n"
          ]
        }
      ]
    },
    {
      "cell_type": "markdown",
      "source": [
        "## **LEMMEATIZATION**"
      ],
      "metadata": {
        "id": "hhOcQlzsqYMN"
      }
    },
    {
      "cell_type": "code",
      "source": [
        "nlp = spacy.load('en_core_web_sm')\n",
        "doc = nlp('Walking is one of the main gaits of terrestrial locomotion among legged animals')\n",
        "\n",
        "for token in doc:\n",
        "    print(token.text + \"-->\" + token.lemma_)"
      ],
      "metadata": {
        "colab": {
          "base_uri": "https://localhost:8080/"
        },
        "id": "VqKRqCQdqaVS",
        "outputId": "30f9c2ab-59a0-4134-f7ac-84f4e5c24d2e"
      },
      "execution_count": 11,
      "outputs": [
        {
          "output_type": "stream",
          "name": "stdout",
          "text": [
            "Walking-->walk\n",
            "is-->be\n",
            "one-->one\n",
            "of-->of\n",
            "the-->the\n",
            "main-->main\n",
            "gaits-->gait\n",
            "of-->of\n",
            "terrestrial-->terrestrial\n",
            "locomotion-->locomotion\n",
            "among-->among\n",
            "legged-->legged\n",
            "animals-->animal\n"
          ]
        }
      ]
    },
    {
      "cell_type": "markdown",
      "source": [
        "## **STEMMING**"
      ],
      "metadata": {
        "id": "fW7Z9o2G0geN"
      }
    },
    {
      "cell_type": "code",
      "source": [
        "nlp = spacy.load(\"en_core_web_sm\")\n",
        "words = [\"run\", \"running\", \"ran\"]\n",
        "stemmed_words = [nlp(word)[0].lemma_ for word in words]\n",
        "print(stemmed_words)\n",
        "# prints: [\"run\", \"run\", \"run\"]"
      ],
      "metadata": {
        "colab": {
          "base_uri": "https://localhost:8080/"
        },
        "id": "xHx40vxM0kiH",
        "outputId": "e2279095-9a4a-49df-ddd0-47ac7d5c3d60"
      },
      "execution_count": 12,
      "outputs": [
        {
          "output_type": "stream",
          "name": "stdout",
          "text": [
            "['run', 'run', 'run']\n"
          ]
        }
      ]
    },
    {
      "cell_type": "code",
      "source": [
        "import spacy\n",
        "from collections import Counter\n",
        "import matplotlib.pyplot as plt\n",
        "\n",
        "# Example text\n",
        "text = \". To evaluate the prediction of spans we chop a text into atomic pieces and determine for each of them if they have been correctly classified. Out-of-the-box spaCy provides token-based metrics for span-prediction.\"\n",
        "\n",
        "# Load the spaCy English model\n",
        "nlp = spacy.load(\"en_core_web_sm\")\n",
        "\n",
        "# Process the text\n",
        "doc = nlp(text)\n",
        "\n",
        "# Extract the tokens\n",
        "tokens = [token.text for token in doc if not token.is_punct and not token.is_space]\n",
        "\n",
        "# Create a frequency distribution of tokens\n",
        "freq_dist = Counter(tokens)\n",
        "\n",
        "# Get the most common tokens and their frequencies\n",
        "common_tokens = [token[0] for token in freq_dist.most_common(10)]\n",
        "frequencies = [token[1] for token in freq_dist.most_common(10)]\n",
        "\n",
        "# Plot the frequency distribution\n",
        "plt.figure(figsize=(10, 6))\n",
        "plt.bar(common_tokens, frequencies)\n",
        "plt.xlabel('Tokens')\n",
        "plt.ylabel('Frequency')\n",
        "plt.title('Token Frequency Distribution')\n",
        "plt.show()\n"
      ],
      "metadata": {
        "colab": {
          "base_uri": "https://localhost:8080/",
          "height": 564
        },
        "id": "Yseob4G2kbCb",
        "outputId": "5a934921-3b51-485c-ebdb-4c592824bec9"
      },
      "execution_count": 13,
      "outputs": [
        {
          "output_type": "display_data",
          "data": {
            "text/plain": [
              "<Figure size 1000x600 with 1 Axes>"
            ],
            "image/png": "[encoded data removed]"
          },
          "metadata": {}
        }
      ]
    }
  ]
}