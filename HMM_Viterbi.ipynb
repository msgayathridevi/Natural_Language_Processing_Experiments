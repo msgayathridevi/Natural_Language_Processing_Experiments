{
  "nbformat": 4,
  "nbformat_minor": 0,
  "metadata": {
    "colab": {
      "provenance": []
    },
    "kernelspec": {
      "name": "python3",
      "display_name": "Python 3"
    },
    "language_info": {
      "name": "python"
    }
  },
  "cells": [
    {
      "cell_type": "markdown",
      "source": [
        "**HMM with Inbuilt**"
      ],
      "metadata": {
        "id": "GvIPoCmVSfwL"
      }
    },
    {
      "cell_type": "code",
      "source": [
        "import nltk\n",
        "nltk.download('punkt')"
      ],
      "metadata": {
        "colab": {
          "base_uri": "https://localhost:8080/"
        },
        "id": "xFrYs9zmWO6c",
        "outputId": "481d375e-6427-42a4-8d4f-6ba3f18aebde"
      },
      "execution_count": null,
      "outputs": [
        {
          "output_type": "stream",
          "name": "stderr",
          "text": [
            "[nltk_data] Downloading package punkt to /root/nltk_data...\n",
            "[nltk_data]   Unzipping tokenizers/punkt.zip.\n"
          ]
        },
        {
          "output_type": "execute_result",
          "data": {
            "text/plain": [
              "True"
            ]
          },
          "metadata": {},
          "execution_count": 6
        }
      ]
    },
    {
      "cell_type": "code",
      "source": [
        "import nltk\n",
        "from nltk.tag import hmm\n",
        "import nltk\n",
        "nltk.download('averaged_perceptron_tagger')\n",
        "\n",
        "data =   \"Mary Jane can see will. The spot will see Mary. Will Jane spot Mary? Mary will pat Spot\"\n",
        "\n",
        "sentences = nltk.sent_tokenize(data)\n",
        "training_data=[]\n",
        "\n",
        "for sentence in sentences:\n",
        "    words = nltk.word_tokenize(sentence)\n",
        "    pos_tags = nltk.pos_tag(words)\n",
        "    training_data.append(pos_tags)\n",
        "\n",
        "\n",
        "hmm_tagger = hmm.HiddenMarkovModelTrainer().train(training_data)\n",
        "sentence = [\"The\",\"dog\",\"runs\", \"fast\"]\n",
        "pos_tags = hmm_tagger.tag(sentence)\n",
        "print(\"Tagged sentence : \", pos_tags)"
      ],
      "metadata": {
        "colab": {
          "base_uri": "https://localhost:8080/"
        },
        "id": "YsSwx7WdV7Lp",
        "outputId": "181653fb-0800-459f-f5ec-ef25b77e3078"
      },
      "execution_count": null,
      "outputs": [
        {
          "output_type": "stream",
          "name": "stdout",
          "text": [
            "Tagged sentence :  [('The', 'NNP'), ('dog', 'NNP'), ('runs', 'NNP'), ('fast', 'NNP')]\n"
          ]
        },
        {
          "output_type": "stream",
          "name": "stderr",
          "text": [
            "[nltk_data] Downloading package averaged_perceptron_tagger to\n",
            "[nltk_data]     /root/nltk_data...\n",
            "[nltk_data]   Package averaged_perceptron_tagger is already up-to-\n",
            "[nltk_data]       date!\n"
          ]
        }
      ]
    },
    {
      "cell_type": "markdown",
      "source": [
        "**VITERBI with Inbuilt**"
      ],
      "metadata": {
        "id": "nhGMnmsCSnpY"
      }
    },
    {
      "cell_type": "code",
      "source": [
        "import nltk\n",
        "from nltk.tag import hmm\n",
        "nltk.download('punkt')\n",
        "nltk.download('averaged_perceptron_tagger')\n",
        "\n",
        "data = \"Mary Jane can see will. The spot will see Mary. Will Jane spot Mary? Mary will pat Spot\"\n",
        "\n",
        "sentences = nltk.sent_tokenize(data)\n",
        "training_data=[]\n",
        "\n",
        "for sentence in sentences:\n",
        "    words = nltk.word_tokenize(sentence)\n",
        "    pos_tags = nltk.pos_tag(words)\n",
        "    training_data.append(pos_tags)\n",
        "\n",
        "hmm_tagger = nltk.HiddenMarkovModelTagger.train(training_data)\n",
        "\n",
        "sentence1 = [\"The\",\"dog\",\"runs\", \"fast\"]\n",
        "pos_tags = hmm_tagger.tag(sentence1)\n",
        "print(\"Tagged sentence : \", pos_tags)"
      ],
      "metadata": {
        "colab": {
          "base_uri": "https://localhost:8080/"
        },
        "id": "gLE3klzKWFNW",
        "outputId": "a16bb914-658a-4eb0-be77-efc555e6cc8e"
      },
      "execution_count": null,
      "outputs": [
        {
          "output_type": "stream",
          "name": "stdout",
          "text": [
            "Tagged sentence :  [('The', 'DT'), ('dog', 'NN'), ('runs', 'MD'), ('fast', 'VB')]\n"
          ]
        },
        {
          "output_type": "stream",
          "name": "stderr",
          "text": [
            "[nltk_data] Downloading package punkt to /root/nltk_data...\n",
            "[nltk_data]   Package punkt is already up-to-date!\n",
            "[nltk_data] Downloading package averaged_perceptron_tagger to\n",
            "[nltk_data]     /root/nltk_data...\n",
            "[nltk_data]   Package averaged_perceptron_tagger is already up-to-\n",
            "[nltk_data]       date!\n"
          ]
        }
      ]
    }
  ]
}