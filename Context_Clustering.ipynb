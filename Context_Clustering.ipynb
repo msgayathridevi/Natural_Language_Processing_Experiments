{
  "nbformat": 4,
  "nbformat_minor": 0,
  "metadata": {
    "colab": {
      "provenance": []
    },
    "kernelspec": {
      "name": "python3",
      "display_name": "Python 3"
    },
    "language_info": {
      "name": "python"
    }
  },
  "cells": [
    {
      "cell_type": "code",
      "source": [
        "import gensim\n",
        "from gensim.models import Word2Vec\n",
        "from sklearn.cluster import KMeans\n",
        "# import numpy as np\n",
        "import nltk\n",
        "nltk.download('punkt')\n",
        "\n",
        "sentences = [\n",
        "    [\"this\", \"is\", \"sentence\", \"one\"],\n",
        "    [\"another\", \"example\", \"sentence\"],\n",
        "    [\"yet\", \"another\", \"example\", \"of\", \"text\"],\n",
        "]\n",
        "\n",
        "model = Word2Vec(sentences, vector_size=100, window=5, min_count=1, sg=0)\n",
        "\n",
        "word_vectors = model.wv\n",
        "\n",
        "k = 3\n",
        "kmeans = KMeans(n_clusters=k)\n",
        "kmeans.fit(word_vectors.vectors)\n",
        "\n",
        "word_clusters = kmeans.labels_\n",
        "word_cluster_mapping = {word: cluster for word, cluster in\n",
        "                        zip(word_vectors.index_to_key, word_clusters)}\n",
        "\n",
        "for cluster_num in range(k):\n",
        "    words_in_cluster = [word for word, cluster in word_cluster_mapping.items()\n",
        "    if cluster == cluster_num]\n",
        "    print(f\"Cluster {cluster_num + 1} Words: {', '.join(words_in_cluster)}\")\n"
      ],
      "metadata": {
        "colab": {
          "base_uri": "https://localhost:8080/"
        },
        "id": "rhCDmGNUW3Ip",
        "outputId": "551ecebe-7620-47af-ade2-e8884c293dc3"
      },
      "execution_count": null,
      "outputs": [
        {
          "output_type": "stream",
          "name": "stderr",
          "text": [
            "[nltk_data] Downloading package punkt to /root/nltk_data...\n",
            "[nltk_data]   Package punkt is already up-to-date!\n",
            "/usr/local/lib/python3.10/dist-packages/sklearn/cluster/_kmeans.py:870: FutureWarning: The default value of `n_init` will change from 10 to 'auto' in 1.4. Set the value of `n_init` explicitly to suppress the warning\n",
            "  warnings.warn(\n"
          ]
        },
        {
          "output_type": "stream",
          "name": "stdout",
          "text": [
            "Cluster 1 Words: sentence, of, one, this\n",
            "Cluster 2 Words: example, is\n",
            "Cluster 3 Words: another, text, yet\n"
          ]
        }
      ]
    }
  ]
}