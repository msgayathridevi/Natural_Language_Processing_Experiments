{
  "nbformat": 4,
  "nbformat_minor": 0,
  "metadata": {
    "colab": {
      "provenance": []
    },
    "kernelspec": {
      "name": "python3",
      "display_name": "Python 3"
    },
    "language_info": {
      "name": "python"
    }
  },
  "cells": [
    {
      "cell_type": "markdown",
      "source": [
        "**HAMMING DISTANCE**"
      ],
      "metadata": {
        "id": "iEALpM877Xi8"
      }
    },
    {
      "cell_type": "code",
      "source": [
        "def hammingDist(str1, str2):\n",
        "    i = 0\n",
        "    count = 0\n",
        "\n",
        "    while(i < len(str1)):\n",
        "        if(str1[i] != str2[i]):\n",
        "            count += 1\n",
        "        i += 1\n",
        "    return count\n",
        "\n",
        "# Driver code\n",
        "str1 = \"abcd\"\n",
        "str2 = \"dcba\"\n",
        "\n",
        "# function call\n",
        "print(hammingDist(str1, str2))"
      ],
      "metadata": {
        "colab": {
          "base_uri": "https://localhost:8080/"
        },
        "id": "jI6i9XfrCgn6",
        "outputId": "5c8494cc-acff-49fd-b434-8d7980c879a1"
      },
      "execution_count": 1,
      "outputs": [
        {
          "output_type": "stream",
          "name": "stdout",
          "text": [
            "4\n"
          ]
        }
      ]
    },
    {
      "cell_type": "code",
      "source": [
        "def hamming_distance(s1, s2):\n",
        "    if len(s1) != len(s2):\n",
        "        raise ValueError(\"Input strings must have the same length\")\n",
        "    distance = 0\n",
        "    for char1, char2 in zip(s1, s2):\n",
        "        if char1 != char2:\n",
        "            distance += 1\n",
        "    return distance\n",
        "def normalized_hamming_distance(s1, s2):\n",
        "    if len(s1) != len(s2):\n",
        "        raise ValueError(\"Input strings must have the same length\")\n",
        "    distance = hamming_distance(s1, s2)\n",
        "    length = len(s1)\n",
        "\n",
        "    normalized_distance = distance / length\n",
        "    return normalized_distance\n",
        "\n",
        "string1 = input(\"Enter the string1: \")\n",
        "string2 = input(\"Enter the string2: \")\n",
        "\n",
        "distance = hamming_distance(string1, string2)\n",
        "normalized_distance = normalized_hamming_distance(string1, string2)\n",
        "\n",
        "print(f\"Hamming distance between '{string1}' and '{string2}': {distance}\")\n",
        "print(f\"Normalized Hamming distance: {normalized_distance:.4f}\")"
      ],
      "metadata": {
        "id": "mewnxFnMDTj5",
        "colab": {
          "base_uri": "https://localhost:8080/"
        },
        "outputId": "80908251-1439-4fcc-deae-a9a38edfcbf4"
      },
      "execution_count": 2,
      "outputs": [
        {
          "output_type": "stream",
          "name": "stdout",
          "text": [
            "Enter the string1: gayudevi\n",
            "Enter the string2: gaaydivu\n",
            "Hamming distance between 'gayudevi' and 'gaaydivu': 4\n",
            "Normalized Hamming distance: 0.5000\n"
          ]
        }
      ]
    },
    {
      "cell_type": "markdown",
      "source": [
        "**LEVENSHTEIN DISTANCE**"
      ],
      "metadata": {
        "id": "T2vD1_9v7Q_L"
      }
    },
    {
      "cell_type": "code",
      "source": [
        "def levenshtein_distance(s1, s2):\n",
        "    m, n = len(s1), len(s2)\n",
        "    dp = [[0] * (n + 1) for _ in range(m + 1)]\n",
        "\n",
        "    for i in range(m + 1):\n",
        "        dp[i][0] = i\n",
        "\n",
        "    for j in range(n + 1):\n",
        "        dp[0][j] = j\n",
        "\n",
        "    for i in range(1, m + 1):\n",
        "        for j in range(1, n + 1):\n",
        "            cost = 0 if s1[i - 1] == s2[j - 1] else 1\n",
        "            dp[i][j] = min(dp[i - 1][j] + 1, dp[i][j - 1] + 1, dp[i - 1][j - 1] + cost)\n",
        "\n",
        "    return dp[m][n]\n",
        "\n",
        "# Example usage\n",
        "string1 = input(\"Enter the string1: \")\n",
        "string2 = input(\"Enter the string2: \")\n",
        "distance = levenshtein_distance(string1, string2)\n",
        "print(f\"Levenshtein distance between '{string1}' and '{string2}': {distance}\")\n"
      ],
      "metadata": {
        "colab": {
          "base_uri": "https://localhost:8080/"
        },
        "id": "SphDOY1x5KQw",
        "outputId": "bc4a1500-fed7-48c2-eb15-ad185ae2593b"
      },
      "execution_count": 3,
      "outputs": [
        {
          "output_type": "stream",
          "name": "stdout",
          "text": [
            "Enter the string1: gayathridevi\n",
            "Enter the string2: msgayathri\n",
            "Levenshtein distance between 'gayathridevi' and 'msgayathri': 6\n"
          ]
        }
      ]
    }
  ]
}