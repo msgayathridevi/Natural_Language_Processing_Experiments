{
  "nbformat": 4,
  "nbformat_minor": 0,
  "metadata": {
    "colab": {
      "provenance": []
    },
    "kernelspec": {
      "name": "python3",
      "display_name": "Python 3"
    },
    "language_info": {
      "name": "python"
    }
  },
  "cells": [
    {
      "cell_type": "markdown",
      "source": [
        "# **Tokenization**"
      ],
      "metadata": {
        "id": "J_v-YAW4EAUk"
      }
    },
    {
      "cell_type": "code",
      "execution_count": 1,
      "metadata": {
        "colab": {
          "base_uri": "https://localhost:8080/"
        },
        "id": "-sZYUx-aCdTh",
        "outputId": "0e29425b-1cd3-45ad-9461-5be385eca40c"
      },
      "outputs": [
        {
          "output_type": "stream",
          "name": "stdout",
          "text": [
            "['this', 'is', 'a', 'sample', 'sentence', 'tokenization', 'is', 'the', 'first', 'step', 'in', 'nlp']\n"
          ]
        }
      ],
      "source": [
        "import re\n",
        "\n",
        "text = \"This is a sample sentence. Tokenization is the first step in NLP!\"\n",
        "tokens = re.findall(r'\\w+', text.lower())\n",
        "print(tokens)"
      ]
    },
    {
      "cell_type": "markdown",
      "source": [
        "# **SINGULAR TO PLURAL CONVERSION**"
      ],
      "metadata": {
        "id": "6OQEkvYuBu72"
      }
    },
    {
      "cell_type": "code",
      "source": [
        "import re\n",
        "\n",
        "def pluralize(word):\n",
        "    # List of irregular noun forms and their plural counterparts\n",
        "    irregulars = {\n",
        "        \"child\": \"children\",\n",
        "        \"man\": \"men\",\n",
        "        \"woman\": \"women\",\n",
        "        \"tooth\": \"teeth\",\n",
        "        \"foot\": \"feet\",\n",
        "        \"mouse\": \"mice\",\n",
        "        \"ox\": \"oxen\"\n",
        "        # Add more irregular forms as needed\n",
        "    }\n",
        "\n",
        "    if word in irregulars:\n",
        "        return irregulars[word]\n",
        "\n",
        "    rules = [\n",
        "        (r's$', 's'),            # plural already ends in s\n",
        "        (r'(ax|test)is$', 'es'), # singular words ending in ax or test\n",
        "        (r'(octop|vir)us$', 'i'),# singular words ending in us\n",
        "        (r'(?i)(quiz)$', 'zes'), # singular words ending in quiz (case insensitive)\n",
        "        (r'([m|l])ouse$', 'ice'),# singular words ending in mouse or louse\n",
        "        (r'(matr|vert|ind)ix|ex$', 'ices'), # matrices, vertices, indices, reflexes\n",
        "        (r'(x|ch|ss|sh)$', 'es'), # singular words ending in x, ch, ss, sh\n",
        "        (r'([^aeiouy]|qu)y$', 'ies'), # singular words ending in consonant + y\n",
        "        (r'(hive)$', 's'),       # irregular endings\n",
        "        (r'([^f])fe$', 'ives'),   # singular words ending in (not f)fe\n",
        "        (r'f$', 'ves'),          # singular words ending in f\n",
        "        # (r'(.+)fe$', r'\\1ves'),  # singular words ending in (any)fe\n",
        "        (r'(buffal|tomat|potat)o$', r'\\1oes'), # buffalo, tomato\n",
        "        (r'([ti])um$', r'\\1a'),  # singular words ending in (t, i)um\n",
        "        (r'(p)erson$', r'\\1eople'), # person\n",
        "        (r'(m)an$', r'\\1en'),    # man\n",
        "    ]\n",
        "\n",
        "    for pattern, replacement in rules:\n",
        "        if re.search(pattern, word):\n",
        "            return re.sub(pattern, replacement, word)\n",
        "\n",
        "    return word + 's'\n",
        "\n",
        "# Get user input\n",
        "input_word = input(\"Enter a singular word: \")\n",
        "plural_word = pluralize(input_word)\n",
        "\n",
        "print(f\"Singular: {input_word} => Plural: {plural_word}\")\n"
      ],
      "metadata": {
        "id": "0lE9oHXbLQfg",
        "colab": {
          "base_uri": "https://localhost:8080/"
        },
        "outputId": "fbe78e22-575d-4024-9436-db53f025c7f7"
      },
      "execution_count": 2,
      "outputs": [
        {
          "output_type": "stream",
          "name": "stdout",
          "text": [
            "Enter a singular word: leaf\n",
            "Singular: leaf => Plural: leaves\n"
          ]
        }
      ]
    },
    {
      "cell_type": "markdown",
      "source": [
        "# **Case Conversion and Stemming**"
      ],
      "metadata": {
        "id": "rqjspV9ZdG8c"
      }
    },
    {
      "cell_type": "code",
      "source": [
        "import re\n",
        "from nltk.stem import PorterStemmer\n",
        "\n",
        "def switch_case(text):\n",
        "    # Function to switch the case of each word in a text\n",
        "    words = re.findall(r'\\b\\w+\\b', text)\n",
        "    switched_text = ' '.join([word.lower() if word.isupper() else word.upper() for word in words])\n",
        "    return switched_text\n",
        "\n",
        "def stemming(text):\n",
        "    # Function to perform stemming on a text\n",
        "    ps = PorterStemmer()\n",
        "    stemmed_words = [ps.stem(word) for word in re.findall(r'\\b\\w+\\b', text)]\n",
        "    stemmed_text = ' '.join(stemmed_words)\n",
        "    return stemmed_text\n",
        "\n",
        "# Example Text\n",
        "input_text = \"Natural Language Processing is a fascinating field.\"\n",
        "\n",
        "# Switching Case\n",
        "switched_text = switch_case(input_text)\n",
        "print(\"Switched Case Text:\", switched_text)\n",
        "\n",
        "# Performing Stemming\n",
        "stemmed_text = stemming(input_text)\n",
        "print(\"Stemmed Text:\", stemmed_text)"
      ],
      "metadata": {
        "colab": {
          "base_uri": "https://localhost:8080/"
        },
        "id": "CPz-Wkm0dKIn",
        "outputId": "e3ba1c67-1de6-4b41-b8a0-05738454660b"
      },
      "execution_count": 3,
      "outputs": [
        {
          "output_type": "stream",
          "name": "stdout",
          "text": [
            "Switched Case Text: NATURAL LANGUAGE PROCESSING IS A FASCINATING FIELD\n",
            "Stemmed Text: natur languag process is a fascin field\n"
          ]
        }
      ]
    }
  ]
}