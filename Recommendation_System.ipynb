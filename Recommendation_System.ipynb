{
  "nbformat": 4,
  "nbformat_minor": 0,
  "metadata": {
    "colab": {
      "provenance": []
    },
    "kernelspec": {
      "name": "python3",
      "display_name": "Python 3"
    },
    "language_info": {
      "name": "python"
    }
  },
  "cells": [
    {
      "cell_type": "code",
      "source": [
        "import numpy as np\n",
        "from sklearn.feature_extraction.text import TfidfVectorizer\n",
        "from sklearn.metrics.pairwise import linear_kernel\n",
        "\n",
        "# Sample dataset of books and their descriptions (replace with your own data)\n",
        "books = [\n",
        "    {\n",
        "        'title': 'To Kill a Mockingbird',\n",
        "        'description': 'This classic novel tells the story of racial injustice and moral growth in the American South during the 1930s, through the eyes of a young girl named Scout Finch.',\n",
        "    },\n",
        "    {\n",
        "        'title': '1984',\n",
        "        'description': 'A dystopian masterpiece that explores a world under a totalitarian regime, where surveillance is constant, individualism is forbidden, and the concept of truth is distorted.',\n",
        "    },\n",
        "    {\n",
        "        'title': 'The Great Gatsby',\n",
        "        'description': 'Set in the Roaring Twenties, this iconic novel follows the mysterious millionaire Jay Gatsby and his unrequited love for the elusive Daisy Buchanan, offering a glimpse into the decadence and disillusionment of the era.',\n",
        "    },\n",
        "    # Add more books here...\n",
        "]\n",
        "\n",
        "# Create a list of book descriptions\n",
        "book_descriptions = [book['description'] for book in books]\n",
        "\n",
        "# Initialize TF-IDF vectorizer\n",
        "tfidf_vectorizer = TfidfVectorizer(stop_words='english')\n",
        "tfidf_matrix = tfidf_vectorizer.fit_transform(book_descriptions)\n",
        "\n",
        "# Get user input for book recommendation\n",
        "user_query = input(\"Enter a brief description of the type of book you're looking for: \")\n",
        "\n",
        "# Transform the user query into a TF-IDF vector\n",
        "user_query_vector = tfidf_vectorizer.transform([user_query])\n",
        "\n",
        "# Calculate cosine similarities between the user query and all books\n",
        "cosine_similarities = linear_kernel(user_query_vector, tfidf_matrix).flatten()\n",
        "\n",
        "# Get the indices of the most similar books\n",
        "related_book_indices = cosine_similarities.argsort()[::-1]\n",
        "\n",
        "# Print book recommendations\n",
        "print(\"Recommended Books:\")\n",
        "for i in range(3):  # Adjust the number of recommendations as needed\n",
        "    book_index = related_book_indices[i]\n",
        "    print(i+1, '-', books[book_index]['title'])"
      ],
      "metadata": {
        "colab": {
          "base_uri": "https://localhost:8080/"
        },
        "id": "zpa5u1H2bZOk",
        "outputId": "18fef79a-0c72-4f8e-d9da-c48c84c86733"
      },
      "execution_count": null,
      "outputs": [
        {
          "output_type": "stream",
          "name": "stdout",
          "text": [
            "Enter a brief description of the type of book you're looking for: Novel\n",
            "Recommended Books:\n",
            "1 - To Kill a Mockingbird\n",
            "2 - The Great Gatsby\n",
            "3 - 1984\n"
          ]
        }
      ]
    }
  ]
}