{
  "nbformat": 4,
  "nbformat_minor": 0,
  "metadata": {
    "colab": {
      "provenance": []
    },
    "kernelspec": {
      "name": "python3",
      "display_name": "Python 3"
    },
    "language_info": {
      "name": "python"
    }
  },
  "cells": [
    {
      "cell_type": "markdown",
      "source": [
        "# HMM top down tree parsing"
      ],
      "metadata": {
        "id": "dU5JjYPziHgX"
      }
    },
    {
      "cell_type": "code",
      "source": [
        "import nltk\n",
        "nltk.download('punkt')"
      ],
      "metadata": {
        "colab": {
          "base_uri": "https://localhost:8080/"
        },
        "id": "xFrYs9zmWO6c",
        "outputId": "481d375e-6427-42a4-8d4f-6ba3f18aebde"
      },
      "execution_count": null,
      "outputs": [
        {
          "output_type": "stream",
          "name": "stderr",
          "text": [
            "[nltk_data] Downloading package punkt to /root/nltk_data...\n",
            "[nltk_data]   Unzipping tokenizers/punkt.zip.\n"
          ]
        },
        {
          "output_type": "execute_result",
          "data": {
            "text/plain": [
              "True"
            ]
          },
          "metadata": {},
          "execution_count": 6
        }
      ]
    },
    {
      "cell_type": "code",
      "source": [
        "import nltk\n",
        "from nltk import CFG\n",
        "from nltk.parse.chart import ChartParser\n",
        "\n",
        "grammar = CFG.fromstring(\"\"\"\n",
        "    S -> NP VP\n",
        "    NP -> Det N | Det N PP\n",
        "    PP -> P NP\n",
        "    VP -> V NP | VP PP\n",
        "    Det -> 'the' | 'a'\n",
        "    N -> 'dog' | 'cat' | 'bat'\n",
        "    V -> 'chased' | 'saw'\n",
        "    P -> 'with' | 'in'\n",
        "\"\"\")\n",
        "\n",
        "parser = ChartParser(grammar)\n",
        "sentence = \"the dog chased the cat with a bat\"\n",
        "tokens = sentence.split()\n",
        "\n",
        "parse_trees = list(parser.parse(tokens))\n",
        "for tree in parse_trees:\n",
        "    tree.pretty_print()"
      ],
      "metadata": {
        "colab": {
          "base_uri": "https://localhost:8080/"
        },
        "id": "YsSwx7WdV7Lp",
        "outputId": "fbe537ca-fad7-4cf9-80a5-d942e46dabeb"
      },
      "execution_count": null,
      "outputs": [
        {
          "output_type": "stream",
          "name": "stdout",
          "text": [
            "                    S                          \n",
            "      ______________|_______                    \n",
            "     |                      VP                 \n",
            "     |               _______|________           \n",
            "     |              VP               PP        \n",
            "     |         _____|___         ____|___       \n",
            "     NP       |         NP      |        NP    \n",
            "  ___|___     |      ___|___    |     ___|___   \n",
            "Det      N    V    Det      N   P   Det      N \n",
            " |       |    |     |       |   |    |       |  \n",
            "the     dog chased the     cat with  a      bat\n",
            "\n",
            "                    S                      \n",
            "      ______________|___                    \n",
            "     |                  VP                 \n",
            "     |         _________|___                \n",
            "     |        |             NP             \n",
            "     |        |      _______|____           \n",
            "     |        |     |   |        PP        \n",
            "     |        |     |   |    ____|___       \n",
            "     NP       |     |   |   |        NP    \n",
            "  ___|___     |     |   |   |     ___|___   \n",
            "Det      N    V    Det  N   P   Det      N \n",
            " |       |    |     |   |   |    |       |  \n",
            "the     dog chased the cat with  a      bat\n",
            "\n"
          ]
        }
      ]
    }
  ]
}